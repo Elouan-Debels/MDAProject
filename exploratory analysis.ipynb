{
 "cells": [
  {
   "cell_type": "code",
   "execution_count": null,
   "id": "0c0e3b48-25c3-453f-9114-587035ebaf5e",
   "metadata": {},
   "outputs": [],
   "source": [
    "#kaart maken van de shit\n",
    "#overzicht van alles, simpele metrics.\n",
    "#kan pas de kaart maken als de coordinaten van de AED's aanwezig zijn."
   ]
  },
  {
   "cell_type": "code",
   "execution_count": null,
   "id": "ac2f3c6d-acff-4bad-a5dc-699b9e44ca18",
   "metadata": {},
   "outputs": [],
   "source": []
  }
 ],
 "metadata": {
  "kernelspec": {
   "display_name": "Python 3 (ipykernel)",
   "language": "python",
   "name": "python3"
  },
  "language_info": {
   "codemirror_mode": {
    "name": "ipython",
    "version": 3
   },
   "file_extension": ".py",
   "mimetype": "text/x-python",
   "name": "python",
   "nbconvert_exporter": "python",
   "pygments_lexer": "ipython3",
   "version": "3.9.19"
  }
 },
 "nbformat": 4,
 "nbformat_minor": 5
}
