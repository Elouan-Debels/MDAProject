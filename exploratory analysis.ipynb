{
 "cells": [
  {
   "cell_type": "code",
   "execution_count": null,
   "id": "0c0e3b48-25c3-453f-9114-587035ebaf5e",
   "metadata": {},
   "outputs": [],
   "source": [
    "#kaart maken van de shit\n",
    "#overzicht van alles, simpele metrics.\n",
    "#kan pas de kaart maken als de coordinaten van de AED's aanwezig zijn."
   ]
  },
  {
   "cell_type": "code",
   "execution_count": 11,
   "id": "ac2f3c6d-acff-4bad-a5dc-699b9e44ca18",
   "metadata": {},
   "outputs": [],
   "source": [
    "import pandas as pd\n",
    "\n",
    "aed_locations = pd.read_csv('aed_locations_coordinates_processed.csv')\n",
    "card_arrest = pd.read_csv('card_arrest_processed.csv')\n",
    "all_hospital_locations = pd.read_csv('hospital_coordinates_processed.csv')\n",
    "removed_aed = pd.read_csv('removed_AED.csv')"
   ]
  },
  {
   "cell_type": "code",
   "execution_count": 10,
   "id": "c0c05bdc-8c72-4cc4-91bb-57032166f4d2",
   "metadata": {},
   "outputs": [
    {
     "data": {
      "text/plain": [
       "reason\n",
       "missing_coordinates    2825\n",
       "not_available           749\n",
       "address_missing           2\n",
       "Name: count, dtype: int64"
      ]
     },
     "execution_count": 10,
     "metadata": {},
     "output_type": "execute_result"
    }
   ],
   "source": [
    "#just during the data cleaning itself, 3576 AED were removed from the original 15227, equal to 23.48% of the original total. 2825 (18.55% of the total)\n",
    "#because the coordinates could not be retrieved via Nomatim, for example because the provided address had abbreviations or misspellings.\n",
    "#749 (4.91%) because they were considered to be unavailable to the public, and thus not useable.\n",
    "#2 were removed simply because the address was missing.\n",
    "removed_aed['reason'].value_counts()"
   ]
  },
  {
   "cell_type": "code",
   "execution_count": 13,
   "id": "50993b00-91a8-4ff0-849e-7997e06a637a",
   "metadata": {},
   "outputs": [
    {
     "ename": "NameError",
     "evalue": "name 'belgium_center_lat' is not defined",
     "output_type": "error",
     "traceback": [
      "\u001b[1;31m---------------------------------------------------------------------------\u001b[0m",
      "\u001b[1;31mNameError\u001b[0m                                 Traceback (most recent call last)",
      "Cell \u001b[1;32mIn[13], line 2\u001b[0m\n\u001b[0;32m      1\u001b[0m \u001b[38;5;28;01mimport\u001b[39;00m \u001b[38;5;21;01mfolium\u001b[39;00m\n\u001b[1;32m----> 2\u001b[0m m \u001b[38;5;241m=\u001b[39m folium\u001b[38;5;241m.\u001b[39mMap(location\u001b[38;5;241m=\u001b[39m[\u001b[43mbelgium_center_lat\u001b[49m, belgium_center_lon], zoom_start\u001b[38;5;241m=\u001b[39m\u001b[38;5;241m8\u001b[39m)\n\u001b[0;32m      4\u001b[0m \u001b[38;5;66;03m# add cardiac arrests to the map\u001b[39;00m\n\u001b[0;32m      5\u001b[0m \u001b[38;5;28;01mfor\u001b[39;00m _, row \u001b[38;5;129;01min\u001b[39;00m card_arrest\u001b[38;5;241m.\u001b[39miterrows():\n",
      "\u001b[1;31mNameError\u001b[0m: name 'belgium_center_lat' is not defined"
     ]
    }
   ],
   "source": [
    "import folium\n",
    "\n",
    "# approximately the center of Belgium coordinates\n",
    "belgium_center_lat = 50.8503\n",
    "belgium_center_lon = 4.3517\n",
    "\n",
    "m = folium.Map(location=[belgium_center_lat, belgium_center_lon], zoom_start=8)\n",
    "\n",
    "# add cardiac arrests to the map\n",
    "for _, row in card_arrest.iterrows():\n",
    "    folium.CircleMarker(\n",
    "        location=[row['latitude_intervention'], row['longitude_intervention']],\n",
    "        radius=5,\n",
    "        color='red',\n",
    "        fill=True,\n",
    "        fill_color='red',\n",
    "        fill_opacity=0.6,\n",
    "        tooltip='Cardiac Arrest'\n",
    "    ).add_to(m)\n",
    "\n",
    "# add synthetic cardiac arrest locations to the map\n",
    "for _, row in aed_locations.iterrows():\n",
    "    folium.CircleMarker(\n",
    "        location=[row['latitude_intervention'], row['longitude_intervention']],\n",
    "        radius=3,\n",
    "        color='green',\n",
    "        fill=True,\n",
    "        fill_color='green',\n",
    "        fill_opacity=0.6,\n",
    "        tooltip='AED'\n",
    "    ).add_to(m)\n",
    "\n",
    "for _, row in all_hospital_locations.iterrows():\n",
    "    folium.CircleMarker(\n",
    "        location=[row['latitude_intervention'], row['longitude_intervention']],\n",
    "        radius=7,\n",
    "        color='blue',\n",
    "        fill=True,\n",
    "        fill_color='blue',\n",
    "        fill_opacity=0.6,\n",
    "        tooltip='Hospital'\n",
    "    ).add_to(m)\n",
    "\n",
    "for _, row in removed_aed.iterrows():\n",
    "    folium.CircleMarker(\n",
    "        location=[row['latitude_intervention'], row['longitude_intervention']],\n",
    "        radius=5,\n",
    "        color='purple',\n",
    "        fill=True,\n",
    "        fill_color='purple',\n",
    "        fill_opacity=0.6,\n",
    "        tooltip='Cardiac Arrest'\n",
    "    ).add_to(m)\n",
    "\n",
    "# save the map to an HTML file, in order to inspect the results. The results seem realistic.\n",
    "m.save('exploratory_map.html')"
   ]
  }
 ],
 "metadata": {
  "kernelspec": {
   "display_name": "Python 3 (ipykernel)",
   "language": "python",
   "name": "python3"
  },
  "language_info": {
   "codemirror_mode": {
    "name": "ipython",
    "version": 3
   },
   "file_extension": ".py",
   "mimetype": "text/x-python",
   "name": "python",
   "nbconvert_exporter": "python",
   "pygments_lexer": "ipython3",
   "version": "3.9.19"
  }
 },
 "nbformat": 4,
 "nbformat_minor": 5
}
