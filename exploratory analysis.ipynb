{
 "cells": [
  {
   "cell_type": "code",
   "execution_count": null,
   "id": "0c0e3b48-25c3-453f-9114-587035ebaf5e",
   "metadata": {},
   "outputs": [],
   "source": [
    "#kaart maken van de shit\n",
    "#overzicht van alles, simpele metrics.\n",
    "#kan pas de kaart maken als de coordinaten van de AED's aanwezig zijn."
   ]
  },
  {
   "cell_type": "code",
   "execution_count": 28,
   "id": "ac2f3c6d-acff-4bad-a5dc-699b9e44ca18",
   "metadata": {},
   "outputs": [],
   "source": [
    "import pandas as pd\n",
    "\n",
    "aed_locations = pd.read_csv('aed_locations_coordinates_processed.csv')\n",
    "card_arrest = pd.read_csv('card_arrest_processed.csv')\n",
    "all_hospital_locations = pd.read_csv('hospital_coordinates_processed.csv')\n",
    "removed_aed = pd.read_csv('removed_AED.csv')"
   ]
  },
  {
   "cell_type": "code",
   "execution_count": 10,
   "id": "c0c05bdc-8c72-4cc4-91bb-57032166f4d2",
   "metadata": {},
   "outputs": [
    {
     "data": {
      "text/plain": [
       "reason\n",
       "missing_coordinates    2825\n",
       "not_available           749\n",
       "address_missing           2\n",
       "Name: count, dtype: int64"
      ]
     },
     "execution_count": 10,
     "metadata": {},
     "output_type": "execute_result"
    }
   ],
   "source": [
    "#just during the data cleaning itself, 3576 AED were removed from the original 15227, equal to 23.48% of the original total. 2825 (18.55% of the total)\n",
    "#because the coordinates could not be retrieved via Nomatim, for example because the provided address had abbreviations or misspellings.\n",
    "#749 (4.91%) because they were considered to be unavailable to the public, and thus not useable.\n",
    "#2 were removed simply because the address was missing.\n",
    "removed_aed['reason'].value_counts()"
   ]
  },
  {
   "cell_type": "code",
   "execution_count": 27,
   "id": "9f47671e-87d9-4a58-8dc1-d0435a081da0",
   "metadata": {},
   "outputs": [
    {
     "data": {
      "text/html": [
       "<div>\n",
       "<style scoped>\n",
       "    .dataframe tbody tr th:only-of-type {\n",
       "        vertical-align: middle;\n",
       "    }\n",
       "\n",
       "    .dataframe tbody tr th {\n",
       "        vertical-align: top;\n",
       "    }\n",
       "\n",
       "    .dataframe thead th {\n",
       "        text-align: right;\n",
       "    }\n",
       "</style>\n",
       "<table border=\"1\" class=\"dataframe\">\n",
       "  <thead>\n",
       "    <tr style=\"text-align: right;\">\n",
       "      <th></th>\n",
       "      <th>latitude</th>\n",
       "      <th>longitude</th>\n",
       "    </tr>\n",
       "  </thead>\n",
       "  <tbody>\n",
       "    <tr>\n",
       "      <th>0</th>\n",
       "      <td>51.231381</td>\n",
       "      <td>4.415761</td>\n",
       "    </tr>\n",
       "    <tr>\n",
       "      <th>1</th>\n",
       "      <td>51.205787</td>\n",
       "      <td>4.412513</td>\n",
       "    </tr>\n",
       "    <tr>\n",
       "      <th>2</th>\n",
       "      <td>51.206556</td>\n",
       "      <td>4.470778</td>\n",
       "    </tr>\n",
       "    <tr>\n",
       "      <th>3</th>\n",
       "      <td>51.363865</td>\n",
       "      <td>4.985064</td>\n",
       "    </tr>\n",
       "    <tr>\n",
       "      <th>4</th>\n",
       "      <td>51.174354</td>\n",
       "      <td>4.420085</td>\n",
       "    </tr>\n",
       "  </tbody>\n",
       "</table>\n",
       "</div>"
      ],
      "text/plain": [
       "    latitude  longitude\n",
       "0  51.231381   4.415761\n",
       "1  51.205787   4.412513\n",
       "2  51.206556   4.470778\n",
       "3  51.363865   4.985064\n",
       "4  51.174354   4.420085"
      ]
     },
     "execution_count": 27,
     "metadata": {},
     "output_type": "execute_result"
    }
   ],
   "source": [
    "#aed_locations.head()\n",
    "#card_arrest.head()\n",
    "all_hospital_locations.head()\n",
    "#missing_values_count_lat = all_hospital_locations['latitude'].isnull().sum()\n",
    "#missing_values_count_long = all_hospital_locations['longitude'].isnull().sum()\n",
    "#missing_values_count_lat\n",
    "#missing_values_count_long"
   ]
  },
  {
   "cell_type": "code",
   "execution_count": 29,
   "id": "50993b00-91a8-4ff0-849e-7997e06a637a",
   "metadata": {},
   "outputs": [],
   "source": [
    "#it could provide valuable insight to also plot the removed AED's. However, the vast majority of the AED's were removed because\n",
    "#it was impossible to get coordinates in the first place. Only a small minority, for which it is clear what the reason is (they are not available)\n",
    "#can be plotted, but since the reason is clear it is not really useful to plot them.\n",
    "import folium\n",
    "\n",
    "# approximately the center of Belgium coordinates\n",
    "belgium_center_lat = 50.8503\n",
    "belgium_center_lon = 4.3517\n",
    "\n",
    "m = folium.Map(location=[belgium_center_lat, belgium_center_lon], zoom_start=8)\n",
    "\n",
    "# add cardiac arrests to the map\n",
    "for _, row in card_arrest.iterrows():\n",
    "    folium.CircleMarker(\n",
    "        location=[row['latitude_intervention'], row['longitude_intervention']],\n",
    "        radius=5,\n",
    "        color='red',\n",
    "        fill=True,\n",
    "        fill_color='red',\n",
    "        fill_opacity=0.6,\n",
    "        tooltip='Cardiac Arrest'\n",
    "    ).add_to(m)\n",
    "\n",
    "# add AED locations to the map\n",
    "for _, row in aed_locations.iterrows():\n",
    "    folium.CircleMarker(\n",
    "        location=[row['latitude'], row['longitude']],\n",
    "        radius=3,\n",
    "        color='green',\n",
    "        fill=True,\n",
    "        fill_color='green',\n",
    "        fill_opacity=0.6,\n",
    "        tooltip='AED'\n",
    "    ).add_to(m)\n",
    "\n",
    "# add hospital locations to the map\n",
    "for _, row in all_hospital_locations.iterrows():\n",
    "    folium.CircleMarker(\n",
    "        location=[row['latitude'], row['longitude']],\n",
    "        radius=7,\n",
    "        color='blue',\n",
    "        fill=True,\n",
    "        fill_color='blue',\n",
    "        fill_opacity=0.6,\n",
    "        tooltip='Hospital'\n",
    "    ).add_to(m)\n",
    "\n",
    "m.save('exploratory_map.html')"
   ]
  }
 ],
 "metadata": {
  "kernelspec": {
   "display_name": "Python 3 (ipykernel)",
   "language": "python",
   "name": "python3"
  },
  "language_info": {
   "codemirror_mode": {
    "name": "ipython",
    "version": 3
   },
   "file_extension": ".py",
   "mimetype": "text/x-python",
   "name": "python",
   "nbconvert_exporter": "python",
   "pygments_lexer": "ipython3",
   "version": "3.9.19"
  }
 },
 "nbformat": 4,
 "nbformat_minor": 5
}
