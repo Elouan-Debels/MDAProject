{
 "cells": [
  {
   "cell_type": "code",
   "execution_count": null,
   "id": "0ecc0527-3554-4581-987b-4ea94395025a",
   "metadata": {},
   "outputs": [],
   "source": [
    "#verrijking van de harstilstand data doen eerst, dat is het allereerste. dan de slechte harstilstanden eruit halen, die dat al \n",
    "#volledig gedekt zijn door de ziekenhuizen, want die hoeven toch al niet meer gered te worden. Dan kan je zien welke AED's nuttig zijn en welke niet,\n",
    "#door die netwerk analyse toe te passen en te zien welke AED's niet verbonden zijn (niet de dichtstbijzijnde) bij een harstilstand zijn. (PAS OP VOOR\n",
    "#POTENTIELE RANDGEVALLEN, ALS ER BIJVOORBEELD meerdere harstilstanden vlak naast elkaar zijn, kan het zijn dat een AED eigenlijk slecht is maar toch het\n",
    "#dichtst staat bij een harstilstand, die al gedekt is => HIER REKENING MEE HOUDEN, => OPLOSSING GEEN BIPARTITE GRAPH GEBRUIKEN, JE VERBINDT ALLE \n",
    "#HARTSTILSTANDEN ONDER EEN BEPAALDE TIJD MET ALLE AED'S DIE ONDER DIE BEPAALDE TIJD ZIJN, EN DAN ACHTERAF KAN JE BESLISSEN HOE HET ZIT)"
   ]
  },
  {
   "cell_type": "code",
   "execution_count": null,
   "id": "d0d18145-c539-4303-8cd4-0e084b45fcdf",
   "metadata": {},
   "outputs": [],
   "source": [
    "#AED's die te dicht bij de ziekenhuizen staan en daarom verwijderd worden, moeten ook gemarkeerd worden om die reden (reason for\n",
    "#removal: too close to hospital). Dus pas op, je moet dat ook nog apart doen, als je enkel de harstilstanden verwijdert en niet ook de AED's,\n",
    "#dan lijkt het alsof de AED's die te dicht stonden ook verwijderd werden omdat ze geen harstilstand coverden, terwijl dat eignelijk niet de reden was."
   ]
  },
  {
   "cell_type": "code",
   "execution_count": 2,
   "id": "cf4b1218-a31c-4d1a-8a16-7f13d7c7666b",
   "metadata": {},
   "outputs": [],
   "source": [
    "import pandas as pd\n",
    "aed_locations = pd.read_csv('aed_locations_processed.csv')\n",
    "card_arrest = pd.read_csv('card_arrest_processed.csv')\n",
    "hospital_coordinates = pd.read_csv('hospital_coordinates_processed.csv')\n",
    "removed_AED = pd.read_csv('removed_AED.csv')"
   ]
  },
  {
   "cell_type": "code",
   "execution_count": 4,
   "id": "0f10288c-2b0d-4cd8-ba18-493d23b6f6d7",
   "metadata": {},
   "outputs": [
    {
     "data": {
      "text/html": [
       "<div>\n",
       "<style scoped>\n",
       "    .dataframe tbody tr th:only-of-type {\n",
       "        vertical-align: middle;\n",
       "    }\n",
       "\n",
       "    .dataframe tbody tr th {\n",
       "        vertical-align: top;\n",
       "    }\n",
       "\n",
       "    .dataframe thead th {\n",
       "        text-align: right;\n",
       "    }\n",
       "</style>\n",
       "<table border=\"1\" class=\"dataframe\">\n",
       "  <thead>\n",
       "    <tr style=\"text-align: right;\">\n",
       "      <th></th>\n",
       "      <th>latitude</th>\n",
       "      <th>longitude</th>\n",
       "    </tr>\n",
       "  </thead>\n",
       "  <tbody>\n",
       "    <tr>\n",
       "      <th>0</th>\n",
       "      <td>51.231381</td>\n",
       "      <td>4.415761</td>\n",
       "    </tr>\n",
       "    <tr>\n",
       "      <th>1</th>\n",
       "      <td>51.205787</td>\n",
       "      <td>4.412513</td>\n",
       "    </tr>\n",
       "    <tr>\n",
       "      <th>2</th>\n",
       "      <td>51.206556</td>\n",
       "      <td>4.470778</td>\n",
       "    </tr>\n",
       "    <tr>\n",
       "      <th>3</th>\n",
       "      <td>51.363865</td>\n",
       "      <td>4.985064</td>\n",
       "    </tr>\n",
       "    <tr>\n",
       "      <th>4</th>\n",
       "      <td>51.174354</td>\n",
       "      <td>4.420085</td>\n",
       "    </tr>\n",
       "    <tr>\n",
       "      <th>...</th>\n",
       "      <td>...</td>\n",
       "      <td>...</td>\n",
       "    </tr>\n",
       "    <tr>\n",
       "      <th>392</th>\n",
       "      <td>50.025633</td>\n",
       "      <td>5.359641</td>\n",
       "    </tr>\n",
       "    <tr>\n",
       "      <th>393</th>\n",
       "      <td>50.674803</td>\n",
       "      <td>5.633665</td>\n",
       "    </tr>\n",
       "    <tr>\n",
       "      <th>394</th>\n",
       "      <td>50.652888</td>\n",
       "      <td>5.578356</td>\n",
       "    </tr>\n",
       "    <tr>\n",
       "      <th>395</th>\n",
       "      <td>50.622523</td>\n",
       "      <td>5.636381</td>\n",
       "    </tr>\n",
       "    <tr>\n",
       "      <th>396</th>\n",
       "      <td>50.828298</td>\n",
       "      <td>5.200855</td>\n",
       "    </tr>\n",
       "  </tbody>\n",
       "</table>\n",
       "<p>397 rows × 2 columns</p>\n",
       "</div>"
      ],
      "text/plain": [
       "      latitude  longitude\n",
       "0    51.231381   4.415761\n",
       "1    51.205787   4.412513\n",
       "2    51.206556   4.470778\n",
       "3    51.363865   4.985064\n",
       "4    51.174354   4.420085\n",
       "..         ...        ...\n",
       "392  50.025633   5.359641\n",
       "393  50.674803   5.633665\n",
       "394  50.652888   5.578356\n",
       "395  50.622523   5.636381\n",
       "396  50.828298   5.200855\n",
       "\n",
       "[397 rows x 2 columns]"
      ]
     },
     "execution_count": 4,
     "metadata": {},
     "output_type": "execute_result"
    }
   ],
   "source": [
    "#to calculate the distances, we use haversine formula, where we take the shortest distance between two points (a straight line).\n",
    "#this is not always realistic (suppose an AED is placed on the corner of a building, then a straight line is impossible to take). Therefore we\n",
    "#add 15% distance, to account for this."
   ]
  }
 ],
 "metadata": {
  "kernelspec": {
   "display_name": "Python 3 (ipykernel)",
   "language": "python",
   "name": "python3"
  },
  "language_info": {
   "codemirror_mode": {
    "name": "ipython",
    "version": 3
   },
   "file_extension": ".py",
   "mimetype": "text/x-python",
   "name": "python",
   "nbconvert_exporter": "python",
   "pygments_lexer": "ipython3",
   "version": "3.9.19"
  }
 },
 "nbformat": 4,
 "nbformat_minor": 5
}
